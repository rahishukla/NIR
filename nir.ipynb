{
 "cells": [
  {
   "cell_type": "code",
   "execution_count": 5,
   "metadata": {},
   "outputs": [
    {
     "data": {
      "text/html": [
       "<div>\n",
       "<style scoped>\n",
       "    .dataframe tbody tr th:only-of-type {\n",
       "        vertical-align: middle;\n",
       "    }\n",
       "\n",
       "    .dataframe tbody tr th {\n",
       "        vertical-align: top;\n",
       "    }\n",
       "\n",
       "    .dataframe thead th {\n",
       "        text-align: right;\n",
       "    }\n",
       "</style>\n",
       "<table border=\"1\" class=\"dataframe\">\n",
       "  <thead>\n",
       "    <tr style=\"text-align: right;\">\n",
       "      <th></th>\n",
       "      <th>Sentence #</th>\n",
       "      <th>Word</th>\n",
       "      <th>POS</th>\n",
       "      <th>Tag</th>\n",
       "    </tr>\n",
       "  </thead>\n",
       "  <tbody>\n",
       "    <tr>\n",
       "      <th>0</th>\n",
       "      <td>Sentence: 1</td>\n",
       "      <td>Thousands</td>\n",
       "      <td>NNS</td>\n",
       "      <td>O</td>\n",
       "    </tr>\n",
       "    <tr>\n",
       "      <th>1</th>\n",
       "      <td>NaN</td>\n",
       "      <td>of</td>\n",
       "      <td>IN</td>\n",
       "      <td>O</td>\n",
       "    </tr>\n",
       "    <tr>\n",
       "      <th>2</th>\n",
       "      <td>NaN</td>\n",
       "      <td>demonstrators</td>\n",
       "      <td>NNS</td>\n",
       "      <td>O</td>\n",
       "    </tr>\n",
       "    <tr>\n",
       "      <th>3</th>\n",
       "      <td>NaN</td>\n",
       "      <td>have</td>\n",
       "      <td>VBP</td>\n",
       "      <td>O</td>\n",
       "    </tr>\n",
       "    <tr>\n",
       "      <th>4</th>\n",
       "      <td>NaN</td>\n",
       "      <td>marched</td>\n",
       "      <td>VBN</td>\n",
       "      <td>O</td>\n",
       "    </tr>\n",
       "  </tbody>\n",
       "</table>\n",
       "</div>"
      ],
      "text/plain": [
       "    Sentence #           Word  POS Tag\n",
       "0  Sentence: 1      Thousands  NNS   O\n",
       "1          NaN             of   IN   O\n",
       "2          NaN  demonstrators  NNS   O\n",
       "3          NaN           have  VBP   O\n",
       "4          NaN        marched  VBN   O"
      ]
     },
     "execution_count": 5,
     "metadata": {},
     "output_type": "execute_result"
    }
   ],
   "source": [
    "import pandas as pd\n",
    "#from google.colab import files\n",
    "#uploaded = files.upload()\n",
    "data = pd.read_csv('ner_dataset.csv', encoding='unicode_escape')\n",
    "data.head()\n"
   ]
  },
  {
   "cell_type": "code",
   "execution_count": 6,
   "metadata": {},
   "outputs": [],
   "source": [
    "from itertools import chain\n",
    "\n",
    "\n",
    "def get_dict_map(data, token_or_tag):\n",
    "    tok2idx = {}\n",
    "    idx2tok = {}\n",
    "\n",
    "    if token_or_tag == 'token':\n",
    "        vocab = list(set(data['Word'].to_list()))\n",
    "    else:\n",
    "        vocab = list(set(data['Tag'].to_list()))\n",
    "\n",
    "    idx2tok = {idx: tok for idx, tok in enumerate(vocab)}\n",
    "    tok2idx = {tok: idx for idx, tok in enumerate(vocab)}\n",
    "    return tok2idx, idx2tok\n",
    "\n",
    "\n",
    "token2idx, idx2token = get_dict_map(data, 'token')\n",
    "tag2idx, idx2tag = get_dict_map(data, 'tag')\n"
   ]
  },
  {
   "cell_type": "code",
   "execution_count": 7,
   "metadata": {},
   "outputs": [],
   "source": [
    "data['Word_idx'] = data['Word'].map(token2idx)\n",
    "data['Tag_idx'] = data['Tag'].map(tag2idx)\n",
    "data_fillna = data.fillna(method='ffill', axis=0)\n",
    "# Groupby and collect columns\n",
    "data_group = data_fillna.groupby(\n",
    "    data['Sentence #'], as_index=False\n",
    ")[['Word', 'POS', 'Tag', 'Word_idx', 'Tag_idx']].agg(lambda x: list(x))\n"
   ]
  },
  {
   "cell_type": "code",
   "execution_count": 8,
   "metadata": {},
   "outputs": [
    {
     "name": "stdout",
     "output_type": "stream",
     "text": [
      "train_tokens length: 32372 \n",
      "train_tokens length: 32372 \n",
      "test_tokens length: 4796 \n",
      "test_tags: 4796 \n",
      "val_tokens: 10791 \n",
      "val_tags: 10791\n"
     ]
    }
   ],
   "source": [
    "from sklearn.model_selection import train_test_split\n",
    "from keras.utils import pad_sequences\n",
    "from keras.utils import to_categorical\n",
    "\n",
    "\n",
    "def get_pad_train_test_val(data_group, data):\n",
    "\n",
    "    # get max token and tag length\n",
    "    n_token = len(list(set(data['Word'].to_list())))\n",
    "    n_tag = len(list(set(data['Tag'].to_list())))\n",
    "\n",
    "    # Pad tokens (X var)\n",
    "    tokens = data_group['Word_idx'].tolist()\n",
    "    maxlen = max([len(s) for s in tokens])\n",
    "    pad_tokens = pad_sequences(\n",
    "        tokens, maxlen=maxlen, dtype='int32', padding='post', value=n_token - 1)\n",
    "\n",
    "    # Pad Tags (y var) and convert it into one hot encoding\n",
    "    tags = data_group['Tag_idx'].tolist()\n",
    "    pad_tags = pad_sequences(\n",
    "        tags, maxlen=maxlen, dtype='int32', padding='post', value=tag2idx[\"O\"])\n",
    "    n_tags = len(tag2idx)\n",
    "    pad_tags = [to_categorical(i, num_classes=n_tags) for i in pad_tags]\n",
    "\n",
    "    # Split train, test and validation set\n",
    "    tokens_, test_tokens, tags_, test_tags = train_test_split(\n",
    "        pad_tokens, pad_tags, test_size=0.1, train_size=0.9, random_state=2020)\n",
    "    train_tokens, val_tokens, train_tags, val_tags = train_test_split(\n",
    "        tokens_, tags_, test_size=0.25, train_size=0.75, random_state=2020)\n",
    "\n",
    "    print(\n",
    "        'train_tokens length:', len(train_tokens),\n",
    "        '\\ntrain_tokens length:', len(train_tokens),\n",
    "        '\\ntest_tokens length:', len(test_tokens),\n",
    "        '\\ntest_tags:', len(test_tags),\n",
    "        '\\nval_tokens:', len(val_tokens),\n",
    "        '\\nval_tags:', len(val_tags),\n",
    "    )\n",
    "\n",
    "    return train_tokens, val_tokens, test_tokens, train_tags, val_tags, test_tags\n",
    "\n",
    "\n",
    "train_tokens, val_tokens, test_tokens, train_tags, val_tags, test_tags = get_pad_train_test_val(\n",
    "    data_group, data)\n"
   ]
  },
  {
   "cell_type": "code",
   "execution_count": 9,
   "metadata": {},
   "outputs": [],
   "source": [
    "import numpy as np\n",
    "import tensorflow\n",
    "from tensorflow.keras import Sequential, Model, Input\n",
    "from tensorflow.keras.layers import LSTM, Embedding, Dense, TimeDistributed, Dropout, Bidirectional\n",
    "from tensorflow.keras.utils import plot_model\n",
    "from numpy.random import seed\n",
    "seed(1)\n",
    "tensorflow.random.set_seed(2)\n"
   ]
  },
  {
   "cell_type": "code",
   "execution_count": 10,
   "metadata": {},
   "outputs": [],
   "source": [
    "input_dim = len(list(set(data['Word'].to_list())))+1\n",
    "output_dim = 64\n",
    "input_length = max([len(s) for s in data_group['Word_idx'].tolist()])\n",
    "n_tags = len(tag2idx)\n"
   ]
  },
  {
   "cell_type": "code",
   "execution_count": 11,
   "metadata": {},
   "outputs": [],
   "source": [
    "def get_bilstm_lstm_model():\n",
    "    model = Sequential()\n",
    "\n",
    "    # Add Embedding layer\n",
    "    model.add(Embedding(input_dim=input_dim,\n",
    "              output_dim=output_dim, input_length=input_length))\n",
    "\n",
    "    # Add bidirectional LSTM\n",
    "    model.add(Bidirectional(LSTM(units=output_dim, return_sequences=True,\n",
    "              dropout=0.2, recurrent_dropout=0.2), merge_mode='concat'))\n",
    "\n",
    "    # Add LSTM\n",
    "    model.add(LSTM(units=output_dim, return_sequences=True,\n",
    "              dropout=0.5, recurrent_dropout=0.5))\n",
    "\n",
    "    # Add timeDistributed Layer\n",
    "    model.add(TimeDistributed(Dense(n_tags, activation=\"relu\")))\n",
    "\n",
    "    # Optimiser\n",
    "    # adam = k.optimizers.Adam(lr=0.0005, beta_1=0.9, beta_2=0.999)\n",
    "\n",
    "    # Compile model\n",
    "    model.compile(loss='categorical_crossentropy',\n",
    "                  optimizer='adam', metrics=['accuracy'])\n",
    "    model.summary()\n",
    "\n",
    "    return model\n"
   ]
  },
  {
   "cell_type": "code",
   "execution_count": 1,
   "metadata": {},
   "outputs": [],
   "source": [
    "def train_model(X, y, model):\n",
    "    loss = list()\n",
    "    for i in range(25):\n",
    "        # fit model for one epoch on this sequence\n",
    "        hist = model.fit(X, y, batch_size=1000, verbose=1,\n",
    "                         epochs=1, validation_split=0.2)\n",
    "        loss.append(hist.history['loss'][0])\n",
    "    return loss\n"
   ]
  },
  {
   "cell_type": "code",
   "execution_count": 13,
   "metadata": {},
   "outputs": [
    {
     "name": "stdout",
     "output_type": "stream",
     "text": [
      "Model: \"sequential\"\n",
      "_________________________________________________________________\n",
      " Layer (type)                Output Shape              Param #   \n",
      "=================================================================\n",
      " embedding (Embedding)       (None, 1, 64)             2251456   \n",
      "                                                                 \n",
      " bidirectional (Bidirectiona  (None, 1, 128)           66048     \n",
      " l)                                                              \n",
      "                                                                 \n",
      " lstm_1 (LSTM)               (None, 1, 64)             49408     \n",
      "                                                                 \n",
      " time_distributed (TimeDistr  (None, 1, 17)            1105      \n",
      " ibuted)                                                         \n",
      "                                                                 \n",
      "=================================================================\n",
      "Total params: 2,368,017\n",
      "Trainable params: 2,368,017\n",
      "Non-trainable params: 0\n",
      "_________________________________________________________________\n",
      "You must install pydot (`pip install pydot`) and install graphviz (see instructions at https://graphviz.gitlab.io/download/) for plot_model to work.\n",
      "26/26 [==============================] - 9s 94ms/step - loss: 1.5297 - accuracy: 0.6821 - val_loss: 0.9124 - val_accuracy: 0.7100\n",
      "26/26 [==============================] - 2s 69ms/step - loss: 0.7978 - accuracy: 0.7236 - val_loss: 0.7345 - val_accuracy: 0.7169\n",
      "26/26 [==============================] - 2s 73ms/step - loss: 0.6542 - accuracy: 0.7874 - val_loss: 0.6629 - val_accuracy: 0.8363\n",
      "26/26 [==============================] - 2s 65ms/step - loss: 0.5599 - accuracy: 0.8613 - val_loss: 0.6307 - val_accuracy: 0.8840\n",
      "26/26 [==============================] - 2s 69ms/step - loss: 0.4877 - accuracy: 0.9102 - val_loss: 0.6523 - val_accuracy: 0.9022\n",
      "26/26 [==============================] - 2s 64ms/step - loss: 0.4429 - accuracy: 0.9320 - val_loss: 0.6469 - val_accuracy: 0.9018\n",
      "26/26 [==============================] - 2s 64ms/step - loss: 0.4351 - accuracy: 0.9375 - val_loss: 0.7416 - val_accuracy: 0.8822\n",
      "26/26 [==============================] - 2s 67ms/step - loss: 0.4280 - accuracy: 0.9381 - val_loss: 0.7380 - val_accuracy: 0.9041\n",
      "26/26 [==============================] - 2s 72ms/step - loss: 0.4041 - accuracy: 0.9456 - val_loss: 0.7402 - val_accuracy: 0.9022\n",
      "26/26 [==============================] - 2s 69ms/step - loss: 0.3886 - accuracy: 0.9456 - val_loss: 0.7406 - val_accuracy: 0.9038\n",
      "26/26 [==============================] - 2s 62ms/step - loss: 0.5183 - accuracy: 0.8773 - val_loss: 0.7940 - val_accuracy: 0.8151\n",
      "26/26 [==============================] - 2s 64ms/step - loss: 0.4723 - accuracy: 0.8709 - val_loss: 0.7226 - val_accuracy: 0.8440\n",
      "26/26 [==============================] - 2s 60ms/step - loss: 0.4247 - accuracy: 0.9089 - val_loss: 0.6718 - val_accuracy: 0.8681\n",
      "26/26 [==============================] - 2s 64ms/step - loss: 0.4155 - accuracy: 0.9276 - val_loss: 0.7258 - val_accuracy: 0.8777\n",
      "26/26 [==============================] - 2s 60ms/step - loss: 0.3976 - accuracy: 0.9386 - val_loss: 0.7623 - val_accuracy: 0.8862\n",
      "26/26 [==============================] - 2s 61ms/step - loss: 0.3889 - accuracy: 0.9444 - val_loss: 0.7748 - val_accuracy: 0.8849\n",
      "26/26 [==============================] - 2s 61ms/step - loss: 0.3773 - accuracy: 0.9473 - val_loss: 0.7767 - val_accuracy: 0.8886\n",
      "26/26 [==============================] - 2s 61ms/step - loss: 0.3769 - accuracy: 0.9469 - val_loss: 0.8174 - val_accuracy: 0.8893\n",
      "26/26 [==============================] - 2s 63ms/step - loss: 0.3741 - accuracy: 0.9479 - val_loss: 0.8439 - val_accuracy: 0.8894\n",
      "26/26 [==============================] - 2s 62ms/step - loss: 0.3717 - accuracy: 0.9479 - val_loss: 0.8627 - val_accuracy: 0.8902\n",
      "26/26 [==============================] - 2s 63ms/step - loss: 0.3677 - accuracy: 0.9476 - val_loss: 0.9029 - val_accuracy: 0.8903\n",
      "26/26 [==============================] - 2s 62ms/step - loss: 0.3734 - accuracy: 0.9471 - val_loss: 0.9216 - val_accuracy: 0.8905\n",
      "26/26 [==============================] - 2s 64ms/step - loss: 0.3676 - accuracy: 0.9485 - val_loss: 0.8999 - val_accuracy: 0.8903\n",
      "26/26 [==============================] - 2s 62ms/step - loss: 0.3761 - accuracy: 0.9482 - val_loss: 0.9221 - val_accuracy: 0.8897\n",
      "26/26 [==============================] - 2s 64ms/step - loss: 0.3712 - accuracy: 0.9483 - val_loss: 0.7909 - val_accuracy: 0.8908\n"
     ]
    }
   ],
   "source": [
    "results = pd.DataFrame()\n",
    "model_bilstm_lstm = get_bilstm_lstm_model()\n",
    "plot_model(model_bilstm_lstm)\n",
    "results['with_add_lstm'] = train_model(\n",
    "    train_tokens, np.array(train_tags), model_bilstm_lstm)\n"
   ]
  },
  {
   "cell_type": "code",
   "execution_count": 2,
   "metadata": {},
   "outputs": [
    {
     "data": {
      "text/html": [
       "<span class=\"tex2jax_ignore\"><div class=\"entities\" style=\"line-height: 2.5; direction: ltr\">Hi, My name is \n",
       "<mark class=\"entity\" style=\"background: #aa9cfc; padding: 0.45em 0.6em; margin: 0 0.25em; line-height: 1; border-radius: 0.35em;\">\n",
       "    Rahi Shukla\n",
       "    <span style=\"font-size: 0.8em; font-weight: bold; line-height: 1; border-radius: 0.35em; vertical-align: middle; margin-left: 0.5rem\">PERSON</span>\n",
       "</mark>\n",
       " </br> I am from \n",
       "<mark class=\"entity\" style=\"background: #feca74; padding: 0.45em 0.6em; margin: 0 0.25em; line-height: 1; border-radius: 0.35em;\">\n",
       "    India\n",
       "    <span style=\"font-size: 0.8em; font-weight: bold; line-height: 1; border-radius: 0.35em; vertical-align: middle; margin-left: 0.5rem\">GPE</span>\n",
       "</mark>\n",
       " </br> I want to work with \n",
       "<mark class=\"entity\" style=\"background: #7aecec; padding: 0.45em 0.6em; margin: 0 0.25em; line-height: 1; border-radius: 0.35em;\">\n",
       "    Google\n",
       "    <span style=\"font-size: 0.8em; font-weight: bold; line-height: 1; border-radius: 0.35em; vertical-align: middle; margin-left: 0.5rem\">ORG</span>\n",
       "</mark>\n",
       "</br></br> \n",
       "<mark class=\"entity\" style=\"background: #aa9cfc; padding: 0.45em 0.6em; margin: 0 0.25em; line-height: 1; border-radius: 0.35em;\">\n",
       "    Steve Jobs\n",
       "    <span style=\"font-size: 0.8em; font-weight: bold; line-height: 1; border-radius: 0.35em; vertical-align: middle; margin-left: 0.5rem\">PERSON</span>\n",
       "</mark>\n",
       " is My Inspiration</div></span>"
      ],
      "text/plain": [
       "<IPython.core.display.HTML object>"
      ]
     },
     "metadata": {},
     "output_type": "display_data"
    }
   ],
   "source": [
    "import spacy\n",
    "from spacy import displacy\n",
    "nlp = spacy.load('en_core_web_sm')\n",
    "text = nlp('Hi, My name is Rahi Shukla \\n I am from India \\n I want to work with Google\\n\\n Steve Jobs is My Inspiration')\n",
    "displacy.render(text, style = 'ent', jupyter=True)"
   ]
  }
 ],
 "metadata": {
  "kernelspec": {
   "display_name": "Python 3",
   "language": "python",
   "name": "python3"
  },
  "language_info": {
   "codemirror_mode": {
    "name": "ipython",
    "version": 3
   },
   "file_extension": ".py",
   "mimetype": "text/x-python",
   "name": "python",
   "nbconvert_exporter": "python",
   "pygments_lexer": "ipython3",
   "version": "3.9.2"
  },
  "orig_nbformat": 4
 },
 "nbformat": 4,
 "nbformat_minor": 2
}
